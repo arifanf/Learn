{
  "nbformat": 4,
  "nbformat_minor": 0,
  "metadata": {
    "colab": {
      "name": "LatihanPraktek.ipynb",
      "provenance": [],
      "authorship_tag": "ABX9TyO8n3vUrVH6Q3AtZmhyTLHH",
      "include_colab_link": true
    },
    "kernelspec": {
      "name": "python3",
      "display_name": "Python 3"
    },
    "language_info": {
      "name": "python"
    }
  },
  "cells": [
    {
      "cell_type": "markdown",
      "metadata": {
        "id": "view-in-github",
        "colab_type": "text"
      },
      "source": [
        "<a href=\"https://colab.research.google.com/github/arifanf/Learn/blob/main/LatihanPraktek.ipynb\" target=\"_parent\"><img src=\"https://colab.research.google.com/assets/colab-badge.svg\" alt=\"Open In Colab\"/></a>"
      ]
    },
    {
      "cell_type": "code",
      "metadata": {
        "colab": {
          "base_uri": "https://localhost:8080/"
        },
        "id": "pVnyIUu8V_19",
        "outputId": "6ca94a7f-59f9-479a-e21d-e896ee96646e"
      },
      "source": [
        "print(\"Hello World\")"
      ],
      "execution_count": null,
      "outputs": [
        {
          "output_type": "stream",
          "name": "stdout",
          "text": [
            "Hello World\n"
          ]
        }
      ]
    },
    {
      "cell_type": "code",
      "metadata": {
        "colab": {
          "base_uri": "https://localhost:8080/"
        },
        "id": "0IgiB1ZtWIC8",
        "outputId": "def50f7f-f37f-4f58-abd1-b8214899755e"
      },
      "source": [
        "print(\"Halo Dunia\")\n",
        "print(\"Riset Bahasa Python\")"
      ],
      "execution_count": null,
      "outputs": [
        {
          "output_type": "stream",
          "name": "stdout",
          "text": [
            "Halo Dunia\n",
            "Riset Bahasa Python\n"
          ]
        }
      ]
    },
    {
      "cell_type": "code",
      "metadata": {
        "colab": {
          "base_uri": "https://localhost:8080/"
        },
        "id": "-TJhlCvFWKe6",
        "outputId": "ef44b6d8-db9f-47d2-b507-57382e64a9e7"
      },
      "source": [
        "bilangan1 = 20\n",
        "bilangan2 = 10\n",
        "print(bilangan1 - bilangan2)"
      ],
      "execution_count": null,
      "outputs": [
        {
          "output_type": "stream",
          "name": "stdout",
          "text": [
            "10\n"
          ]
        }
      ]
    },
    {
      "cell_type": "code",
      "metadata": {
        "colab": {
          "base_uri": "https://localhost:8080/"
        },
        "id": "TJjoi6rlWMcZ",
        "outputId": "9889e938-878d-4e13-f339-05e75734ff2e"
      },
      "source": [
        "contoh_list = ['Dewi', 'Budi', 'Cici', 'Linda', 'Cici']\n",
        "print(contoh_list)\n",
        "contoh_set = {'Dewi', 'Budi', 'Cici', 'Linda', 'Cici'}\n",
        "print(contoh_set)\n",
        "contoh_frozen_set =( {'Dewi', 'Budi', 'Cici', 'Linda', 'Cici'})\n",
        "print(contoh_frozen_set)"
      ],
      "execution_count": null,
      "outputs": [
        {
          "output_type": "stream",
          "name": "stdout",
          "text": [
            "['Dewi', 'Budi', 'Cici', 'Linda', 'Cici']\n",
            "{'Linda', 'Cici', 'Dewi', 'Budi'}\n",
            "{'Linda', 'Cici', 'Dewi', 'Budi'}\n"
          ]
        }
      ]
    },
    {
      "cell_type": "code",
      "metadata": {
        "colab": {
          "base_uri": "https://localhost:8080/"
        },
        "id": "CMcJPD4UWOPu",
        "outputId": "047bd9b0-810b-4ada-8751-5bf98432bd9c"
      },
      "source": [
        "person = {'nama': 'Arifa', 'pekerjaan': 'Programmer'}\n",
        "print(person['nama'])\n",
        "print(person['pekerjaan'])"
      ],
      "execution_count": null,
      "outputs": [
        {
          "output_type": "stream",
          "name": "stdout",
          "text": [
            "Arifa\n",
            "Programmer\n"
          ]
        }
      ]
    },
    {
      "cell_type": "code",
      "metadata": {
        "colab": {
          "base_uri": "https://localhost:8080/"
        },
        "id": "NyedeaviWVf-",
        "outputId": "441d86e1-df4c-482d-9d24-ba91b62b4106"
      },
      "source": [
        "contoh_list = [1, 'dua', 3, 4.0, 5]\n",
        "print(contoh_list[0])\n",
        "print(contoh_list[3])\n",
        "contoh_list = [1, 'dua', 3, 4.0, 5]\n",
        "contoh_list[3] = 'empat'\n",
        "print(contoh_list[3])"
      ],
      "execution_count": null,
      "outputs": [
        {
          "output_type": "stream",
          "name": "stdout",
          "text": [
            "1\n",
            "4.0\n",
            "empat\n"
          ]
        }
      ]
    },
    {
      "cell_type": "code",
      "metadata": {
        "colab": {
          "base_uri": "https://localhost:8080/"
        },
        "id": "NiiXnxFpWXDE",
        "outputId": "6fe2e168-260e-4b18-f6be-3ed6aaf2156f"
      },
      "source": [
        "contoh_list = [1, 'dua', 3, 4.0, 5]\n",
        "print(contoh_list[0])\n",
        "print(contoh_list[3])\n",
        "contoh_list = [1, 'dua', 3, 4.0, 5]\n",
        "contoh_list[3] = 'empat'\n",
        "print(contoh_list[3])"
      ],
      "execution_count": null,
      "outputs": [
        {
          "output_type": "stream",
          "name": "stdout",
          "text": [
            "1\n",
            "4.0\n",
            "empat\n"
          ]
        }
      ]
    }
  ]
}
